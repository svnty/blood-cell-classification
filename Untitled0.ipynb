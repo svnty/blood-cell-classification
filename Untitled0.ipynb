{
  "nbformat": 4,
  "nbformat_minor": 0,
  "metadata": {
    "colab": {
      "provenance": [],
      "authorship_tag": "ABX9TyNGCE1ythrh0ZZht5/D5ukp",
      "include_colab_link": true
    },
    "kernelspec": {
      "name": "python3",
      "display_name": "Python 3"
    },
    "language_info": {
      "name": "python"
    }
  },
  "cells": [
    {
      "cell_type": "markdown",
      "metadata": {
        "id": "view-in-github",
        "colab_type": "text"
      },
      "source": [
        "<a href=\"https://colab.research.google.com/github/svnty/blood-cell-classification/blob/main/Untitled0.ipynb\" target=\"_parent\"><img src=\"https://colab.research.google.com/assets/colab-badge.svg\" alt=\"Open In Colab\"/></a>"
      ]
    },
    {
      "cell_type": "code",
      "source": [
        "os.getcwd()"
      ],
      "metadata": {
        "colab": {
          "base_uri": "https://localhost:8080/",
          "height": 35
        },
        "id": "dekork37ouaq",
        "outputId": "713331f6-fcc2-40b6-cd31-e31802b8b00c"
      },
      "execution_count": null,
      "outputs": [
        {
          "output_type": "execute_result",
          "data": {
            "text/plain": [
              "'/content'"
            ],
            "application/vnd.google.colaboratory.intrinsic+json": {
              "type": "string"
            }
          },
          "metadata": {},
          "execution_count": 19
        }
      ]
    },
    {
      "cell_type": "code",
      "source": [
        "import os\n",
        "\n",
        "os.environ['KAGGLE_USERNAME'] = \"jakewalklate\"\n",
        "os.environ['KAGGLE_KEY'] = \"8c15673ef9e4665d7982425740797638\""
      ],
      "metadata": {
        "id": "xVPfRnlopqvi"
      },
      "execution_count": null,
      "outputs": []
    },
    {
      "cell_type": "markdown",
      "metadata": {
        "id": "362b65dc"
      },
      "source": [
        "# Task\n",
        "Download the \"Blood Cell Images\" dataset from Kaggle and save it to a directory named \"my_directory\"."
      ]
    },
    {
      "cell_type": "markdown",
      "metadata": {
        "id": "b906b933"
      },
      "source": [
        "## Install kaggle api\n",
        "\n",
        "### Subtask:\n",
        "Install the Kaggle API library using pip.\n"
      ]
    },
    {
      "cell_type": "markdown",
      "metadata": {
        "id": "1672ef98"
      },
      "source": [
        "**Reasoning**:\n",
        "Install the kaggle package using pip.\n",
        "\n"
      ]
    },
    {
      "cell_type": "code",
      "metadata": {
        "colab": {
          "base_uri": "https://localhost:8080/"
        },
        "id": "fd95fd02",
        "outputId": "66dff4cf-a792-4896-d719-3cca18b39f68"
      },
      "source": [
        "!pip install kaggle"
      ],
      "execution_count": null,
      "outputs": [
        {
          "output_type": "stream",
          "name": "stdout",
          "text": [
            "Requirement already satisfied: kaggle in /usr/local/lib/python3.12/dist-packages (1.7.4.5)\n",
            "Requirement already satisfied: bleach in /usr/local/lib/python3.12/dist-packages (from kaggle) (6.2.0)\n",
            "Requirement already satisfied: certifi>=14.05.14 in /usr/local/lib/python3.12/dist-packages (from kaggle) (2025.8.3)\n",
            "Requirement already satisfied: charset-normalizer in /usr/local/lib/python3.12/dist-packages (from kaggle) (3.4.3)\n",
            "Requirement already satisfied: idna in /usr/local/lib/python3.12/dist-packages (from kaggle) (3.10)\n",
            "Requirement already satisfied: protobuf in /usr/local/lib/python3.12/dist-packages (from kaggle) (5.29.5)\n",
            "Requirement already satisfied: python-dateutil>=2.5.3 in /usr/local/lib/python3.12/dist-packages (from kaggle) (2.9.0.post0)\n",
            "Requirement already satisfied: python-slugify in /usr/local/lib/python3.12/dist-packages (from kaggle) (8.0.4)\n",
            "Requirement already satisfied: requests in /usr/local/lib/python3.12/dist-packages (from kaggle) (2.32.4)\n",
            "Requirement already satisfied: setuptools>=21.0.0 in /usr/local/lib/python3.12/dist-packages (from kaggle) (75.2.0)\n",
            "Requirement already satisfied: six>=1.10 in /usr/local/lib/python3.12/dist-packages (from kaggle) (1.17.0)\n",
            "Requirement already satisfied: text-unidecode in /usr/local/lib/python3.12/dist-packages (from kaggle) (1.3)\n",
            "Requirement already satisfied: tqdm in /usr/local/lib/python3.12/dist-packages (from kaggle) (4.67.1)\n",
            "Requirement already satisfied: urllib3>=1.15.1 in /usr/local/lib/python3.12/dist-packages (from kaggle) (2.5.0)\n",
            "Requirement already satisfied: webencodings in /usr/local/lib/python3.12/dist-packages (from kaggle) (0.5.1)\n"
          ]
        }
      ]
    },
    {
      "cell_type": "markdown",
      "metadata": {
        "id": "41819935"
      },
      "source": [
        "## Download the dataset\n",
        "\n",
        "### Subtask:\n",
        "Use the Kaggle API to download the specified dataset.\n"
      ]
    },
    {
      "cell_type": "markdown",
      "metadata": {
        "id": "88f59e13"
      },
      "source": [
        "**Reasoning**:\n",
        "Use a shell command to download the specified dataset from Kaggle to the designated directory and unzip it.\n",
        "\n"
      ]
    },
    {
      "cell_type": "code",
      "metadata": {
        "colab": {
          "base_uri": "https://localhost:8080/"
        },
        "id": "6b132a07",
        "outputId": "4c27c34b-f1b1-41a6-af98-2eb90f0eb0ce"
      },
      "source": [
        "!kaggle datasets download -d draaslan/blood-cell-detection-dataset"
      ],
      "execution_count": null,
      "outputs": [
        {
          "output_type": "stream",
          "name": "stdout",
          "text": [
            "Dataset URL: https://www.kaggle.com/datasets/draaslan/blood-cell-detection-dataset\n",
            "License(s): other\n",
            "Downloading blood-cell-detection-dataset.zip to /content\n",
            "  0% 0.00/12.1M [00:00<?, ?B/s]\n",
            "100% 12.1M/12.1M [00:00<00:00, 819MB/s]\n"
          ]
        }
      ]
    },
    {
      "cell_type": "code",
      "source": [
        "!unzip /content/blood-cell-detection-dataset.zip"
      ],
      "metadata": {
        "colab": {
          "base_uri": "https://localhost:8080/"
        },
        "id": "cx0yREuYp5ak",
        "outputId": "984fbf71-4cb1-432e-e132-b790a5b45163"
      },
      "execution_count": null,
      "outputs": [
        {
          "output_type": "stream",
          "name": "stdout",
          "text": [
            "Archive:  /content/blood-cell-detection-dataset.zip\n",
            "  inflating: .gitignore              \n",
            "  inflating: LICENSE                 \n",
            "  inflating: README.md               \n",
            "  inflating: annotations.csv         \n",
            "  inflating: images/image-1.png      \n",
            "  inflating: images/image-10.png     \n",
            "  inflating: images/image-100.png    \n",
            "  inflating: images/image-101.png    \n",
            "  inflating: images/image-102.png    \n",
            "  inflating: images/image-103.png    \n",
            "  inflating: images/image-104.png    \n",
            "  inflating: images/image-105.png    \n",
            "  inflating: images/image-106.png    \n",
            "  inflating: images/image-107.png    \n",
            "  inflating: images/image-108.png    \n",
            "  inflating: images/image-109.png    \n",
            "  inflating: images/image-11.png     \n",
            "  inflating: images/image-110.png    \n",
            "  inflating: images/image-111.png    \n",
            "  inflating: images/image-112.png    \n",
            "  inflating: images/image-113.png    \n",
            "  inflating: images/image-114.png    \n",
            "  inflating: images/image-115.png    \n",
            "  inflating: images/image-116.png    \n",
            "  inflating: images/image-117.png    \n",
            "  inflating: images/image-118.png    \n",
            "  inflating: images/image-119.png    \n",
            "  inflating: images/image-12.png     \n",
            "  inflating: images/image-120.png    \n",
            "  inflating: images/image-14.png     \n",
            "  inflating: images/image-17.png     \n",
            "  inflating: images/image-18.png     \n",
            "  inflating: images/image-19.png     \n",
            "  inflating: images/image-2.png      \n",
            "  inflating: images/image-20.png     \n",
            "  inflating: images/image-21.png     \n",
            "  inflating: images/image-22.png     \n",
            "  inflating: images/image-23.png     \n",
            "  inflating: images/image-24.png     \n",
            "  inflating: images/image-25.png     \n",
            "  inflating: images/image-28.png     \n",
            "  inflating: images/image-30.png     \n",
            "  inflating: images/image-31.png     \n",
            "  inflating: images/image-32.png     \n",
            "  inflating: images/image-33.png     \n",
            "  inflating: images/image-34.png     \n",
            "  inflating: images/image-35.png     \n",
            "  inflating: images/image-36.png     \n",
            "  inflating: images/image-37.png     \n",
            "  inflating: images/image-38.png     \n",
            "  inflating: images/image-39.png     \n",
            "  inflating: images/image-4.png      \n",
            "  inflating: images/image-43.png     \n",
            "  inflating: images/image-44.png     \n",
            "  inflating: images/image-45.png     \n",
            "  inflating: images/image-46.png     \n",
            "  inflating: images/image-48.png     \n",
            "  inflating: images/image-49.png     \n",
            "  inflating: images/image-50.png     \n",
            "  inflating: images/image-51.png     \n",
            "  inflating: images/image-52.png     \n",
            "  inflating: images/image-53.png     \n",
            "  inflating: images/image-54.png     \n",
            "  inflating: images/image-55.png     \n",
            "  inflating: images/image-59.png     \n",
            "  inflating: images/image-60.png     \n",
            "  inflating: images/image-61.png     \n",
            "  inflating: images/image-62.png     \n",
            "  inflating: images/image-64.png     \n",
            "  inflating: images/image-65.png     \n",
            "  inflating: images/image-66.png     \n",
            "  inflating: images/image-68.png     \n",
            "  inflating: images/image-69.png     \n",
            "  inflating: images/image-7.png      \n",
            "  inflating: images/image-70.png     \n",
            "  inflating: images/image-71.png     \n",
            "  inflating: images/image-72.png     \n",
            "  inflating: images/image-73.png     \n",
            "  inflating: images/image-74.png     \n",
            "  inflating: images/image-75.png     \n",
            "  inflating: images/image-76.png     \n",
            "  inflating: images/image-77.png     \n",
            "  inflating: images/image-78.png     \n",
            "  inflating: images/image-79.png     \n",
            "  inflating: images/image-8.png      \n",
            "  inflating: images/image-80.png     \n",
            "  inflating: images/image-81.png     \n",
            "  inflating: images/image-82.png     \n",
            "  inflating: images/image-83.png     \n",
            "  inflating: images/image-84.png     \n",
            "  inflating: images/image-85.png     \n",
            "  inflating: images/image-86.png     \n",
            "  inflating: images/image-87.png     \n",
            "  inflating: images/image-88.png     \n",
            "  inflating: images/image-89.png     \n",
            "  inflating: images/image-90.png     \n",
            "  inflating: images/image-91.png     \n",
            "  inflating: images/image-92.png     \n",
            "  inflating: images/image-93.png     \n",
            "  inflating: images/image-94.png     \n",
            "  inflating: images/image-95.png     \n",
            "  inflating: images/image-96.png     \n",
            "  inflating: images/image-97.png     \n",
            "  inflating: images/image-99.png     \n"
          ]
        }
      ]
    }
  ]
}