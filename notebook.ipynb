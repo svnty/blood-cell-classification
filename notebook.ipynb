{
  "cells": [
    {
      "cell_type": "markdown",
      "metadata": {
        "colab_type": "text",
        "id": "view-in-github"
      },
      "source": [
        "<a href=\"https://colab.research.google.com/github/svnty/blood-cell-classification/blob/main/Untitled0.ipynb\" target=\"_parent\"><img src=\"https://colab.research.google.com/assets/colab-badge.svg\" alt=\"Open In Colab\"/></a>"
      ]
    },
    {
      "cell_type": "markdown",
      "metadata": {},
      "source": [
        "# Test environment\n",
        "\n",
        "Notebook designed using:\n",
        "\n",
        "- OS Version: `macOS-14.7.6-arm64-arm-64bit-Mach-O`\n",
        "\n",
        "- Python Version: `3.13.5 | packaged by Anaconda, Inc. | (main, Jun 12 2025, 11:23:37) [Clang 14.0.6 ]`\n",
        "\n",
        "- Current Working Directory: `/Users/admin/Projects/Programming/blood-cell-classification`"
      ]
    },
    {
      "cell_type": "code",
      "execution_count": 19,
      "metadata": {},
      "outputs": [
        {
          "name": "stdout",
          "output_type": "stream",
          "text": [
            "OS Version: macOS-14.7.6-arm64-arm-64bit-Mach-O\n",
            "Python Version: 3.13.5 | packaged by Anaconda, Inc. | (main, Jun 12 2025, 11:23:37) [Clang 14.0.6 ]\n",
            "Current Working Directory: /Users/admin/Projects/Programming/blood-cell-classification\n"
          ]
        }
      ],
      "source": [
        "import os\n",
        "import sys\n",
        "import platform\n",
        "\n",
        "print(\"OS Version:\", platform.platform())\n",
        "print(\"Python Version:\", sys.version)\n",
        "print(\"Current Working Directory:\", os.getcwd())"
      ]
    },
    {
      "cell_type": "markdown",
      "metadata": {
        "id": "b906b933"
      },
      "source": [
        "# Install kaggle api\n",
        "\n",
        "Install the Kaggle API library using pip.\n"
      ]
    },
    {
      "cell_type": "code",
      "execution_count": null,
      "metadata": {
        "colab": {
          "base_uri": "https://localhost:8080/"
        },
        "id": "fd95fd02",
        "outputId": "66dff4cf-a792-4896-d719-3cca18b39f68"
      },
      "outputs": [],
      "source": [
        "%pip install kaggle"
      ]
    },
    {
      "cell_type": "markdown",
      "metadata": {},
      "source": [
        "Check if kaggle API key is available"
      ]
    },
    {
      "cell_type": "code",
      "execution_count": 20,
      "metadata": {
        "id": "xVPfRnlopqvi"
      },
      "outputs": [
        {
          "name": "stdout",
          "output_type": "stream",
          "text": [
            "Found kaggle.json in current directory\n",
            "Location: /Users/admin/Projects/Programming/blood-cell-classification/kaggle.json\n",
            "Set secure permissions (600) on kaggle.json\n"
          ]
        }
      ],
      "source": [
        "from pathlib import Path\n",
        "\n",
        "# The Kaggle API looks for credentials in this order:\n",
        "# 1. Current working directory: ./kaggle.json\n",
        "# 2. Home directory: ~/.kaggle/kaggle.json\n",
        "# 3. Environment variables: KAGGLE_USERNAME and KAGGLE_KEY\n",
        "\n",
        "# Check current directory first\n",
        "current_dir_kaggle = Path.cwd() / 'kaggle.json'\n",
        "home_dir_kaggle = Path.home() / '.kaggle' / 'kaggle.json'\n",
        "\n",
        "if current_dir_kaggle.exists():\n",
        "    print(\"Found kaggle.json in current directory\")\n",
        "    print(f\"Location: {current_dir_kaggle}\")\n",
        "\n",
        "    # Set secure permissions (600 = read/write for owner only)\n",
        "    current_dir_kaggle.chmod(0o600)\n",
        "    print(\"Set secure permissions (600) on kaggle.json\")\n",
        "elif home_dir_kaggle.exists():\n",
        "    print(\"Found kaggle.json in home directory\")\n",
        "    print(f\"Location: {home_dir_kaggle}\")\n",
        "\n",
        "    # Set secure permissions (600 = read/write for owner only)\n",
        "    home_dir_kaggle.chmod(0o600)\n",
        "    print(\"Set secure permissions (600) on kaggle.json\")\n",
        "else:\n",
        "    print(\"ERROR: No kaggle.json found\")\n",
        "    print(\"Recommended to place it in current directory: {current_dir_kaggle}\")\n",
        "    print(\"\\nDownload it from: https://www.kaggle.com/settings\")\n",
        "    print(\"After placing the file, run this script again and it will automatically set secure permissions.\")"
      ]
    },
    {
      "cell_type": "markdown",
      "metadata": {
        "id": "362b65dc"
      },
      "source": [
        "# Download dataset\n",
        "\n",
        "Download the \"Blood Cell Images\" dataset from Kaggle and extract it to a directory named \"dataset\"."
      ]
    },
    {
      "cell_type": "code",
      "execution_count": 9,
      "metadata": {},
      "outputs": [
        {
          "name": "stdout",
          "output_type": "stream",
          "text": [
            "Dataset directory created successfully!\n"
          ]
        }
      ],
      "source": [
        "import os\n",
        "\n",
        "os.makedirs(\"dataset\", exist_ok=True)\n",
        "print(\"Dataset directory created successfully!\")"
      ]
    },
    {
      "cell_type": "markdown",
      "metadata": {
        "id": "41819935"
      },
      "source": [
        "## Download the dataset\n",
        "\n",
        "Use the Kaggle API to download the specified dataset.\n"
      ]
    },
    {
      "cell_type": "code",
      "execution_count": 23,
      "metadata": {
        "colab": {
          "base_uri": "https://localhost:8080/"
        },
        "id": "6b132a07",
        "outputId": "4c27c34b-f1b1-41a6-af98-2eb90f0eb0ce"
      },
      "outputs": [
        {
          "name": "stdout",
          "output_type": "stream",
          "text": [
            "Dataset URL: https://www.kaggle.com/datasets/draaslan/blood-cell-detection-dataset\n",
            "Dataset downloaded successfully!\n"
          ]
        }
      ],
      "source": [
        "import kaggle\n",
        "\n",
        "# Download the dataset using Python API\n",
        "kaggle.api.dataset_download_files('draaslan/blood-cell-detection-dataset', path='.', unzip=False)\n",
        "print(\"Dataset downloaded successfully!\")"
      ]
    },
    {
      "cell_type": "markdown",
      "metadata": {},
      "source": [
        "Unzip the folder"
      ]
    },
    {
      "cell_type": "code",
      "execution_count": null,
      "metadata": {
        "colab": {
          "base_uri": "https://localhost:8080/"
        },
        "id": "cx0yREuYp5ak",
        "outputId": "984fbf71-4cb1-432e-e132-b790a5b45163"
      },
      "outputs": [],
      "source": [
        "import zipfile\n",
        "import os\n",
        "\n",
        "# Get current directory and construct the zip file path\n",
        "zip_path = os.path.join(os.getcwd(), \"blood-cell-detection-dataset.zip\")\n",
        "\n",
        "# Unzip the file\n",
        "with zipfile.ZipFile(zip_path, 'r') as zip_ref:\n",
        "    zip_ref.extractall(os.path.join(os.getcwd(), \"dataset\"))"
      ]
    }
  ],
  "metadata": {
    "colab": {
      "authorship_tag": "ABX9TyNGCE1ythrh0ZZht5/D5ukp",
      "include_colab_link": true,
      "provenance": []
    },
    "kernelspec": {
      "display_name": "Python (miniconda-base)",
      "language": "python",
      "name": "miniconda-base"
    },
    "language_info": {
      "codemirror_mode": {
        "name": "ipython",
        "version": 3
      },
      "file_extension": ".py",
      "mimetype": "text/x-python",
      "name": "python",
      "nbconvert_exporter": "python",
      "pygments_lexer": "ipython3",
      "version": "3.13.5"
    }
  },
  "nbformat": 4,
  "nbformat_minor": 0
}
